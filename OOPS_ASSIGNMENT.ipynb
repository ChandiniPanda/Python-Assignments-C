{
  "nbformat": 4,
  "nbformat_minor": 0,
  "metadata": {
    "colab": {
      "provenance": []
    },
    "kernelspec": {
      "name": "python3",
      "display_name": "Python 3"
    },
    "language_info": {
      "name": "python"
    }
  },
  "cells": [
    {
      "cell_type": "code",
      "execution_count": null,
      "metadata": {
        "id": "mWAwp1H4R4ae"
      },
      "outputs": [],
      "source": []
    },
    {
      "cell_type": "markdown",
      "source": [
        "1. What are the five key concepts of Object-Oriented Programming (OOP)?"
      ],
      "metadata": {
        "id": "Nle5zINfR_1X"
      }
    },
    {
      "cell_type": "markdown",
      "source": [
        "Encapsulation, Inheritance, Polymorphism, Abstraction, Object Identity"
      ],
      "metadata": {
        "id": "7XyFkQaPSLiX"
      }
    },
    {
      "cell_type": "markdown",
      "source": [
        "2. Write a Python class for a `Car` with attributes for `make`, `model`, and `year`. Include a method to display\n",
        "the car's information."
      ],
      "metadata": {
        "id": "h5Hj45BcSb7U"
      }
    },
    {
      "cell_type": "code",
      "source": [
        "class Car:\n",
        "  def __init__(self, make, model, year):\n",
        "    self.make = make\n",
        "    self.model = model\n",
        "    self.year = year\n",
        "  def display_info(self):\n",
        "    print(f\"Make: {self.make}\\nModel: {self.model}\\nYear: {self.year}\")"
      ],
      "metadata": {
        "id": "DD4xr2HOSiNH"
      },
      "execution_count": null,
      "outputs": []
    },
    {
      "cell_type": "markdown",
      "source": [
        "3. Explain the difference between instance methods and class methods. Provide an example of each."
      ],
      "metadata": {
        "id": "NEY0ga8YTDv8"
      }
    },
    {
      "cell_type": "code",
      "source": [
        "Instance methods are tied to a specific instance of a class. They can access and modify the instance's attributes and other instance methods.\n",
        "They operate on data that belongs to the object (instance). They require an instance of the class to be called.The self parameter (in Python) refers to the specific instance calling the method."
      ],
      "metadata": {
        "id": "N5jONImJTJCT"
      },
      "execution_count": null,
      "outputs": []
    },
    {
      "cell_type": "code",
      "source": [
        "class Circle:\n",
        "    def __init__(self, radius):\n",
        "        self.radius = radius  # Instance attribute\n",
        "\n",
        "    def area(self):  # Instance method\n",
        "        return 3.14159 * self.radius ** 2  # Accesses instance attribute\n",
        "\n",
        "# Usage\n",
        "c = Circle(5)  # Create an instance\n",
        "print(c.area())  # Output: 78.53975"
      ],
      "metadata": {
        "id": "Ixa8zG1VViw9"
      },
      "execution_count": null,
      "outputs": []
    },
    {
      "cell_type": "markdown",
      "source": [
        "Class methods are tied to the class itself rather than any particular instance. They operate on class-level data and cannot directly access instance-specific data unless explicitly passed.They can modify class attributes but cannot modify instance attributes directly. They are called on the class itself, not on instances, but can also be accessed through an instance. The cls parameter (in Python) refers to the class itself."
      ],
      "metadata": {
        "id": "fhqOmnRdVp7k"
      }
    },
    {
      "cell_type": "code",
      "source": [
        "class Circle:\n",
        "    pi = 3.14159  # Class attribute\n",
        "\n",
        "    def __init__(self, radius):\n",
        "        self.radius = radius  # Instance attribute\n",
        "\n",
        "    @classmethod\n",
        "    def change_pi(cls, new_pi):  # Class method\n",
        "        cls.pi = new_pi  # Modifies class attribute\n",
        "\n",
        "# Usage\n",
        "Circle.change_pi(3.14)  # Call class method on the class\n",
        "print(Circle.pi)  # Output: 3.14"
      ],
      "metadata": {
        "id": "TqTHto6zV06U"
      },
      "execution_count": null,
      "outputs": []
    },
    {
      "cell_type": "markdown",
      "source": [
        "4. How does Python implement method overloading? Give an example."
      ],
      "metadata": {
        "id": "3duOoil4WJIW"
      }
    },
    {
      "cell_type": "markdown",
      "source": [
        "Python does not support method overloading. Instead, Python can handle a varying number of arguments, which is similar to method overloading.\n",
        "\n",
        "This can be achieved by:\n",
        "Default Arguments: Providing default values for parameters.\n",
        "Variable-Length Arguments: Using *args and **kwargs to handle multiple arguments dynamically."
      ],
      "metadata": {
        "id": "do92EmQjWmhj"
      }
    },
    {
      "cell_type": "code",
      "source": [
        "class Calculator:\n",
        "    def add(self, a, b=0, c=0):  # Default values for b and c\n",
        "        return a + b + c\n",
        "\n",
        "# Usage\n",
        "calc = Calculator()\n",
        "print(calc.add(5))          # Adds one number (5 + 0 + 0) -> Output: 5\n",
        "print(calc.add(5, 10))      # Adds two numbers (5 + 10 + 0) -> Output: 15\n",
        "print(calc.add(5, 10, 15))  # Adds three numbers (5 + 10 + 15) -> Output: 30"
      ],
      "metadata": {
        "id": "YVFqOBP6Wp63"
      },
      "execution_count": null,
      "outputs": []
    },
    {
      "cell_type": "code",
      "source": [
        "class Calculator:\n",
        "    def add(self, *args):  # Accepts any number of arguments\n",
        "        return sum(args)\n",
        "\n",
        "# Usage\n",
        "calc = Calculator()\n",
        "print(calc.add(5))              # Adds one number -> Output: 5\n",
        "print(calc.add(5, 10))          # Adds two numbers -> Output: 15\n",
        "print(calc.add(5, 10, 15, 20))  # Adds four numbers -> Output: 50"
      ],
      "metadata": {
        "id": "OPVLv1AKXPa2"
      },
      "execution_count": null,
      "outputs": []
    },
    {
      "cell_type": "markdown",
      "source": [
        "5. What are the three types of access modifiers in Python? How are they denoted?"
      ],
      "metadata": {
        "id": "i_0hL3FCXXci"
      }
    },
    {
      "cell_type": "markdown",
      "source": [
        "In Python, access modifiers control the accessibility of class attributes and methods. There are three types of access modifiers:"
      ],
      "metadata": {
        "id": "tG2fQonhX00I"
      }
    },
    {
      "cell_type": "markdown",
      "source": [
        "1. Public\n",
        "Attributes and methods can be accessed from both outside and inside the class\n",
        "Denotation: No special prefix.\n",
        "Example 1:\n",
        "\n",
        "2. Protected\n",
        "Attributes and methods can be accessed only within the class and its subclasses.\n",
        "Denotation: Single underscore prefix (_).\n",
        "Example 2:\n",
        "\n",
        "\n",
        "3. Private\n",
        "Attributes and methods can only be accessed within the class.\n",
        "Denotation: Double underscore prefix (__).\n",
        "Example 3:\n",
        "\n"
      ],
      "metadata": {
        "id": "EnSOCK7GYNLB"
      }
    },
    {
      "cell_type": "code",
      "source": [
        "class Example:\n",
        "    def __init__(self):\n",
        "        self.public_var = \"I am public\"\n",
        "\n",
        "    def public_method(self):\n",
        "        print(\"This is a public method\")\n",
        "\n",
        "obj = Example()\n",
        "print(obj.public_var)  # Accessing public attribute\n",
        "obj.public_method()    # Calling public method"
      ],
      "metadata": {
        "id": "1Qc_lLgzaDg-"
      },
      "execution_count": null,
      "outputs": []
    },
    {
      "cell_type": "code",
      "source": [
        "class Example:\n",
        "    def __init__(self):\n",
        "        self._protected_var = \"I am protected\"\n",
        "\n",
        "    def _protected_method(self):\n",
        "        print(\"This is a protected method\")\n",
        "\n",
        "class SubExample(Example):\n",
        "    def access_protected(self):\n",
        "        print(self._protected_var)\n",
        "        self._protected_method()\n",
        "\n",
        "obj = SubExample()\n",
        "obj.access_protected()  # Accessing protected attributes and methods in subclass\n"
      ],
      "metadata": {
        "id": "35FeyIVBaEtU"
      },
      "execution_count": null,
      "outputs": []
    },
    {
      "cell_type": "code",
      "source": [
        "class Example:\n",
        "    def __init__(self):\n",
        "        self.__private_var = \"I am private\"\n",
        "\n",
        "    def __private_method(self):\n",
        "        print(\"This is a private method\")\n",
        "\n",
        "    def access_private(self):\n",
        "        print(self.__private_var)  # Accessing private attribute within the class\n",
        "        self.__private_method()    # Calling private method within the class\n",
        "\n",
        "obj = Example()\n",
        "obj.access_private()\n",
        "# print(obj.__private_var)  # AttributeError\n",
        "# obj.__private_method()    # AttributeError\n",
        "\n",
        "# Accessing private attribute using name mangling\n",
        "print(obj._Example__private_var)  # Output: I am private"
      ],
      "metadata": {
        "id": "XcyYgyDraTly"
      },
      "execution_count": null,
      "outputs": []
    },
    {
      "cell_type": "markdown",
      "source": [
        "6. Describe the five types of inheritance in Python. Provide a simple example of multiple inheritance"
      ],
      "metadata": {
        "id": "0I4skz_9bBos"
      }
    },
    {
      "cell_type": "markdown",
      "source": [],
      "metadata": {
        "id": "dI8_gJGvln88"
      }
    },
    {
      "cell_type": "markdown",
      "source": [
        "Single Inheritance: Child class inherits from single parent class\n",
        "Multiple Inheritance: class inherit from more than one parent class\n",
        "Multilevel Inheritance: A class inherits from another class, which in turn inherits from another class.\n",
        "Hierarchical Inheritance: Multiple classes inherit from the same parent class.\n"
      ],
      "metadata": {
        "id": "nLHJFz1Kll_h"
      }
    },
    {
      "cell_type": "code",
      "source": [
        "class Parent1:\n",
        "    def greet(self):\n",
        "        print(\"Hello from Parent1\")\n",
        "\n",
        "class Parent2:\n",
        "    def welcome(self):\n",
        "        print(\"Hello from Parent2\")\n",
        "\n",
        "class Child(Parent1, Parent2):\n",
        "    pass\n",
        "\n",
        "obj = Child()\n",
        "obj.greet()    # Output: Hello from Parent1\n",
        "obj.welcome()  # Output: Hello from Parent2"
      ],
      "metadata": {
        "id": "yw5iJiuNaN-P"
      },
      "execution_count": null,
      "outputs": []
    },
    {
      "cell_type": "markdown",
      "source": [
        "7. What is the Method Resolution Order (MRO) in Python? How can you retrieve it programmatically?"
      ],
      "metadata": {
        "id": "P2-Kn7qXy1Qm"
      }
    },
    {
      "cell_type": "markdown",
      "source": [
        "The Method Resolution Order (MRO) in Python determines the order in which a class's methods and attributes are inherited and resolved when using multiple inheritance. It defines the sequence in which Python searches for a method or attribute in a class hierarchy.\n",
        "\n",
        "MRO is crucial in resolving conflicts that arise in complex inheritance hierarchies, such as multiple inheritance. Python uses the C3 Linearization Algorithm (or C3 superclass linearization) to calculate the MRO. This algorithm ensures that:\n",
        "\n",
        "1. A consistent, predictable order is followed.\n",
        "2. Child classes are always prioritized over parent classes.\n",
        "3. The order of inheritance is taken care (left-to-right in the class declaration).\n",
        "4. Parent classes are only called once (diamond problem is avoided).\n"
      ],
      "metadata": {
        "id": "_i6NVL3u03HQ"
      }
    },
    {
      "cell_type": "code",
      "source": [
        "class A:\n",
        "    def show(self):\n",
        "        print(\"A\")\n",
        "\n",
        "class B(A):\n",
        "    def show(self):\n",
        "        print(\"B\")\n",
        "\n",
        "class C(A):\n",
        "    def show(self):\n",
        "        print(\"C\")\n",
        "\n",
        "class D(B, C):  # Multiple inheritance\n",
        "    pass\n",
        "\n",
        "obj = D()\n",
        "obj.show()  # Output: B (follows MRO)\n",
        "print(D.mro())"
      ],
      "metadata": {
        "colab": {
          "base_uri": "https://localhost:8080/"
        },
        "id": "-QY2KBex4xOK",
        "outputId": "79241d17-9738-4c4c-9d52-b25b87c0aa6d"
      },
      "execution_count": 1,
      "outputs": [
        {
          "output_type": "stream",
          "name": "stdout",
          "text": [
            "B\n",
            "[<class '__main__.D'>, <class '__main__.B'>, <class '__main__.C'>, <class '__main__.A'>, <class 'object'>]\n"
          ]
        }
      ]
    },
    {
      "cell_type": "markdown",
      "source": [
        "8. Create an abstract base class `Shape` with an abstract method `area()`. Then create two subclasses\n",
        "`Circle` and `Rectangle` that implement the `area()` method."
      ],
      "metadata": {
        "id": "odhoNAJP09OY"
      }
    },
    {
      "cell_type": "code",
      "source": [
        "from abc import ABC, abstractmethod\n",
        "import math\n",
        "\n",
        "# Abstract base class\n",
        "class Shape(ABC):\n",
        "    @abstractmethod\n",
        "    def area(self):\n",
        "        \"\"\"Calculate the area of the shape\"\"\"\n",
        "        pass\n",
        "\n",
        "# Subclass for Circle\n",
        "class Circle(Shape):\n",
        "    def __init__(self, radius):\n",
        "        self.radius = radius\n",
        "\n",
        "    def area(self):\n",
        "        return math.pi * (self.radius ** 2)\n",
        "\n",
        "# Subclass for Rectangle\n",
        "class Rectangle(Shape):\n",
        "    def __init__(self, width, height):\n",
        "        self.width = width\n",
        "        self.height = height\n",
        "\n",
        "    def area(self):\n",
        "        return self.width * self.height\n",
        "\n",
        "# Usage\n",
        "circle = Circle(5)  # Circle with radius 5\n",
        "rectangle = Rectangle(4, 6)  # Rectangle with width 4 and height 6\n",
        "\n",
        "print(f\"Area of the circle: {circle.area()}\")  # Output: Area of the circle: 78.53981633974483\n",
        "print(f\"Area of the rectangle: {rectangle.area()}\")  # Output: Area of the rectangle: 24\n"
      ],
      "metadata": {
        "colab": {
          "base_uri": "https://localhost:8080/"
        },
        "id": "E3-HcwCX6GGU",
        "outputId": "2abb7995-d3c3-48c6-d04d-81d6a6e91562"
      },
      "execution_count": 2,
      "outputs": [
        {
          "output_type": "stream",
          "name": "stdout",
          "text": [
            "Area of the circle: 78.53981633974483\n",
            "Area of the rectangle: 24\n"
          ]
        }
      ]
    },
    {
      "cell_type": "markdown",
      "source": [
        "9. Demonstrate polymorphism by creating a function that can work with different shape objects to calculate\n",
        "and print their areas."
      ],
      "metadata": {
        "id": "zXkIRANC6-lv"
      }
    },
    {
      "cell_type": "code",
      "source": [
        "from abc import ABC, abstractmethod\n",
        "import math\n",
        "\n",
        "# Abstract base class\n",
        "class Shape(ABC):\n",
        "    @abstractmethod\n",
        "    def area(self):\n",
        "        \"\"\"Calculate the area of the shape\"\"\"\n",
        "        pass\n",
        "\n",
        "# Subclass for Circle\n",
        "class Circle(Shape):\n",
        "    def __init__(self, radius):\n",
        "        self.radius = radius\n",
        "\n",
        "    def area(self):\n",
        "        return math.pi * (self.radius ** 2)\n",
        "\n",
        "# Subclass for Rectangle\n",
        "class Rectangle(Shape):\n",
        "    def __init__(self, width, height):\n",
        "        self.width = width\n",
        "        self.height = height\n",
        "\n",
        "    def area(self):\n",
        "        return self.width * self.height\n",
        "\n",
        "# Function demonstrating polymorphism\n",
        "def print_area(shape):\n",
        "    \"\"\"Prints the area of a shape object\"\"\"\n",
        "    print(f\"The area of the {shape.__class__.__name__.lower()} is: {shape.area()}\")\n",
        "\n",
        "# Usage\n",
        "circle = Circle(5)  # Circle with radius 5\n",
        "rectangle = Rectangle(4, 6)  # Rectangle with width 4 and height 6\n",
        "\n",
        "# Polymorphic behavior\n",
        "print_area(circle)       # Output: The area of the circle is: 78.53981633974483\n",
        "print_area(rectangle)    # Output: The area of the rectangle is: 24\n"
      ],
      "metadata": {
        "id": "4Ys3J8C47AFt"
      },
      "execution_count": null,
      "outputs": []
    },
    {
      "cell_type": "markdown",
      "source": [
        "10. Implement encapsulation in a `BankAccount` class with private attributes for `balance` and\n",
        "`account_number`. Include methods for deposit, withdrawal, and balance inquiry."
      ],
      "metadata": {
        "id": "kR-o-tVn7URJ"
      }
    },
    {
      "cell_type": "code",
      "source": [
        "class BankAccount:\n",
        "    def __init__(self, account_number, initial_balance=0):\n",
        "        self.__account_number = account_number  # Private attribute\n",
        "        self.__balance = initial_balance        # Private attribute\n",
        "\n",
        "    def deposit(self, amount):\n",
        "        \"\"\"Add money to the account.\"\"\"\n",
        "        if amount > 0:\n",
        "            self.__balance += amount\n",
        "            print(f\"Deposited: {amount}. New balance: {self.__balance}\")\n",
        "        else:\n",
        "            print(\"Deposit amount must be positive.\")\n",
        "\n",
        "    def withdraw(self, amount):\n",
        "        \"\"\"Withdraw money from the account.\"\"\"\n",
        "        if 0 < amount <= self.__balance:\n",
        "            self.__balance -= amount\n",
        "            print(f\"Withdrawn: {amount}. Remaining balance: {self.__balance}\")\n",
        "        elif amount > self.__balance:\n",
        "            print(\"Insufficient balance.\")\n",
        "        else:\n",
        "            print(\"Withdrawal amount must be positive.\")\n",
        "\n",
        "    def get_balance(self):\n",
        "        \"\"\"Get the current balance.\"\"\"\n",
        "        return self.__balance\n",
        "\n",
        "    def get_account_number(self):\n",
        "        \"\"\"Get the account number.\"\"\"\n",
        "        return self.__account_number\n",
        "\n",
        "# Usage\n",
        "account = BankAccount(account_number=\"123456789\", initial_balance=1000)\n",
        "\n",
        "# Deposit money\n",
        "account.deposit(500)  # Output: Deposited: 500. New balance: 1500\n",
        "\n",
        "# Withdraw money\n",
        "account.withdraw(200)  # Output: Withdrawn: 200. Remaining balance: 1300\n",
        "\n",
        "# Attempt to withdraw more than the balance\n",
        "account.withdraw(2000)  # Output: Insufficient balance.\n",
        "\n",
        "# Check balance\n",
        "print(f\"Current balance: {account.get_balance()}\")  # Output: Current balance: 1300\n",
        "\n",
        "# Access account number\n",
        "print(f\"Account Number: {account.get_account_number()}\")  # Output: Account Number: 123456789\n"
      ],
      "metadata": {
        "id": "j499MYRk7VWK"
      },
      "execution_count": null,
      "outputs": []
    },
    {
      "cell_type": "markdown",
      "source": [
        "11. Write a class that overrides the `__str__` and `__add__` magic methods. What will these methods allow\n",
        "you to do?"
      ],
      "metadata": {
        "id": "bGIHgRshEUxC"
      }
    },
    {
      "cell_type": "code",
      "source": [
        "class Point:\n",
        "    def __init__(self, x, y):\n",
        "        self.x = x\n",
        "        self.y = y\n",
        "\n",
        "    def __str__(self):\n",
        "        \"\"\"Customize the string representation of the object.\"\"\"\n",
        "        return f\"Point({self.x}, {self.y})\"\n",
        "\n",
        "    def __add__(self, other):\n",
        "        \"\"\"Define addition behavior for two Point objects.\"\"\"\n",
        "        if isinstance(other, Point):\n",
        "            return Point(self.x + other.x, self.y + other.y)\n",
        "        raise TypeError(\"Can only add Point to Point\")\n",
        "\n",
        "# Usage\n",
        "p1 = Point(2, 3)\n",
        "p2 = Point(4, 5)\n",
        "\n",
        "# Using __str__ for string representation\n",
        "print(p1)  # Output: Point(2, 3)\n",
        "print(p2)  # Output: Point(4, 5)\n",
        "\n",
        "# Using __add__ for addition\n",
        "p3 = p1 + p2\n",
        "print(p3)  # Output: Point(6, 8)\n"
      ],
      "metadata": {
        "id": "6sgN1OFGEXDH"
      },
      "execution_count": null,
      "outputs": []
    },
    {
      "cell_type": "markdown",
      "source": [
        "12. Create a decorator that measures and prints the execution time of a function."
      ],
      "metadata": {
        "id": "gFX91HXoFSmE"
      }
    },
    {
      "cell_type": "code",
      "source": [
        "import time\n",
        "\n",
        "# Decorator to measure execution time\n",
        "def measure_execution_time(func):\n",
        "    def wrapper():\n",
        "        start_time = time.time()  # Start time before function execution\n",
        "        func()  # Call the function\n",
        "        end_time = time.time()  # End time after function execution\n",
        "        print(f\"Execution time: {end_time - start_time:.6f} seconds\")  # Print execution time\n",
        "    return wrapper\n",
        "\n",
        "# A simple function to demonstrate the decorator\n",
        "@measure_execution_time\n",
        "def simple_function():\n",
        "    time.sleep(1)  # Simulating a task that takes 1 second\n",
        "\n",
        "# Calling the function\n",
        "simple_function()\n"
      ],
      "metadata": {
        "id": "6El04o3DFyLX"
      },
      "execution_count": null,
      "outputs": []
    },
    {
      "cell_type": "markdown",
      "source": [
        "13. Explain the concept of the Diamond Problem in multiple inheritance. How does Python resolve it?"
      ],
      "metadata": {
        "id": "PpQlTSBmF6pW"
      }
    },
    {
      "cell_type": "code",
      "source": [
        "class A:\n",
        "    def greet(self):\n",
        "        print(\"Hello from A\")\n",
        "\n",
        "class B(A):\n",
        "    def greet(self):\n",
        "        print(\"Hello from B\")\n",
        "\n",
        "class C(A):\n",
        "    def greet(self):\n",
        "        print(\"Hello from C\")\n",
        "\n",
        "class D(B, C):  # D inherits from both B and C\n",
        "    pass\n",
        "\n",
        "d = D()\n",
        "d.greet()  # Which greet() method will be called? From B or C?\n"
      ],
      "metadata": {
        "id": "iYyKDqrjGral"
      },
      "execution_count": null,
      "outputs": []
    },
    {
      "cell_type": "code",
      "source": [
        "In the above example, D inherits both from B and C, and each of B and C has the greet() method. When you call d.greet(), there is ambiguity that method will be called from B or C."
      ],
      "metadata": {
        "id": "mwPANNryG17d"
      },
      "execution_count": null,
      "outputs": []
    },
    {
      "cell_type": "markdown",
      "source": [
        "Python resolves the Diamond Problem using the C3 Linearization Algorithm.\n",
        "\n",
        "when multiple classes are involved, the MRO determines the order in which Python looks for a method in the inheritance chain. The key points of MRO are:\n",
        "\n",
        "1. Python ensures that each class is only called once.\n",
        "2. The method resolution order follows the inheritance hierarchy and prioritizes classes from left to right (in the case of multiple inheritance).\n",
        "3.Python first looks in the class itself, then in its parents, and so on, following the MRO."
      ],
      "metadata": {
        "id": "2O0Wg9UHHRoL"
      }
    },
    {
      "cell_type": "code",
      "source": [
        "class A:\n",
        "    def greet(self):\n",
        "        print(\"Hello from A\")\n",
        "\n",
        "class B(A):\n",
        "    def greet(self):\n",
        "        print(\"Hello from B\")\n",
        "\n",
        "class C(A):\n",
        "    def greet(self):\n",
        "        print(\"Hello from C\")\n",
        "\n",
        "class D(B, C):  # D inherits from both B and C\n",
        "    pass\n",
        "\n",
        "d = D()\n",
        "d.greet()  # Output: Hello from B\n"
      ],
      "metadata": {
        "id": "hZ7nCHTrLAaU"
      },
      "execution_count": null,
      "outputs": []
    },
    {
      "cell_type": "markdown",
      "source": [
        "14. Write a class method that keeps track of the number of instances created from a class."
      ],
      "metadata": {
        "id": "dU6D6wOxLDFI"
      }
    },
    {
      "cell_type": "code",
      "source": [
        "class MyClass:\n",
        "    # Class attribute to keep track of the number of instances\n",
        "    instance_count = 0\n",
        "\n",
        "    def __init__(self):\n",
        "        # Increment the instance count every time a new object is created\n",
        "        MyClass.instance_count += 1\n",
        "\n",
        "    @classmethod\n",
        "    def get_instance_count(cls):\n",
        "        \"\"\"Class method to get the current number of instances created.\"\"\"\n",
        "        return cls.instance_count\n",
        "\n",
        "# Usage\n",
        "obj1 = MyClass()  # Creates the first instance\n",
        "obj2 = MyClass()  # Creates the second instance\n",
        "obj3 = MyClass()  # Creates the third instance\n",
        "\n",
        "# Retrieve the number of instances created\n",
        "print(f\"Number of instances created: {MyClass.get_instance_count()}\")  # Output: 3\n"
      ],
      "metadata": {
        "id": "XiZxGfCuPgJE"
      },
      "execution_count": null,
      "outputs": []
    },
    {
      "cell_type": "markdown",
      "source": [
        "15. Implement a static method in a class that checks if a given year is a leap year."
      ],
      "metadata": {
        "id": "D_iudXZ2Pvdc"
      }
    },
    {
      "cell_type": "code",
      "source": [
        "class DateUtils:\n",
        "    @staticmethod\n",
        "    def is_leap_year(year):\n",
        "        \"\"\"Check if the given year is a leap year.\"\"\"\n",
        "        if (year % 4 == 0 and year % 100 != 0) or (year % 400 == 0):\n",
        "            return True\n",
        "        return False\n",
        "\n",
        "# Usage\n",
        "print(DateUtils.is_leap_year(2024))  # Output: True (2024 is a leap year)\n",
        "print(DateUtils.is_leap_year(1900))  # Output: False (1900 is not a leap year)\n",
        "print(DateUtils.is_leap_year(2000))  # Output: True (2000 is a leap year)\n"
      ],
      "metadata": {
        "id": "K_8QQmbfP_cD"
      },
      "execution_count": null,
      "outputs": []
    }
  ]
}